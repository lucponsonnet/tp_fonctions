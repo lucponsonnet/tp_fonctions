{
 "cells": [
  {
   "cell_type": "markdown",
   "metadata": {},
   "source": [
    "# Révisions sur les fonctions\n",
    "## 1- Une fonction en Python\n",
    "\n",
    "Une fonction possède en général un nom, des entrées qui sont des **paramètres** (ou encore appelés **arguments**), et une sortie renvoyée généralement par l'instruction *return*.\n",
    "\n",
    " <span style='color:green'>**Exemple 1**</span> :\n",
    "\n",
    "Exécutez la *cellule Code* suivantes (sélectionner la \"cellule Code\", puis cliquer sur *Exécuter* ou utiliser le raccourci clavier *CTRL + Entrée*)."
   ]
  },
  {
   "cell_type": "code",
   "execution_count": null,
   "metadata": {},
   "outputs": [],
   "source": [
    "def f(x):\n",
    "    return 5*x-2\n",
    "\n",
    "print(f(3))"
   ]
  },
  {
   "cell_type": "markdown",
   "metadata": {},
   "source": [
    "Ici la fonction python a pour :\n",
    "* nom *f*.\n",
    "* paramètre $x$.\n",
    "* sortie le résultat du calcul 5*x*-2 qui renvoyé par l'instruction *return*.\n",
    "\n",
    "Il est à noter que :\n",
    "* la première ligne d'une fonction commence par *def* et se termine par un : (deux-points).\n",
    "* Après le : à la ligne, il y a une indentation qui marque le début de du corps de la fonction.\n",
    "* Lorsque l'indentation se termine, on sort de la fonction.\n",
    "* Lorsque vous faites un appel de fonction, vous devez impérativement préciser la valeur du ou des paramètres. Ligne 4 : f(3). Le paramètre $x$ prend la valeur 3.\n",
    "* le parenthésage dans l'instruction *print()* est obligatoire contrairement à l'instruction *return*.\n",
    "\n",
    "<span style='color:green'>**Exemple 2**</span> : une fonction peut avoir plusieurs paramètres.\n",
    " \n",
    " Soient $A(x_A,y_A)$ et $B(x_B,y_B)$ dans un repère orthonormé. On sait que $AB=\\sqrt{(x_B-x_A)^{2}+(y_B-y_A)^{2}}$. \n",
    " \n",
    " Voici un script qui calcule la distance $AB$ en fonction des coordonnées de $A$ et $B$.\n",
    " \n",
    " "
   ]
  },
  {
   "cell_type": "code",
   "execution_count": null,
   "metadata": {},
   "outputs": [],
   "source": [
    "from math import *\n",
    "def distance(xA,yA,xB,yB):\n",
    "    AB=sqrt((xB-xA)**2+(yB-yA)**2)\n",
    "    return AB\n",
    "\n",
    "print(round(distance(1,2,3,4),2)) #round(AB,2) donne une approximation de AB à 2 chiffres après la virgule"
   ]
  },
  {
   "cell_type": "markdown",
   "metadata": {},
   "source": [
    " <span style='color:green'>**Exemple 3**</span> : une fonction peut ne pas avoir de paramètres\n",
    " \n",
    " En voici un exemple que vous pouvez tester.\n",
    " "
   ]
  },
  {
   "cell_type": "code",
   "execution_count": null,
   "metadata": {},
   "outputs": [],
   "source": [
    "from random import *\n",
    "def jeu():\n",
    "    ord=randint(1,6) # randint(1,6) renvoie un entier aléatoire de 1 à 6 (1 et 6 compris)\n",
    "    print(ord)\n",
    "    if ord==6:\n",
    "        return \"Gagné !\"\n",
    "    else :\n",
    "        return \"Perdu !\"\n",
    "    \n",
    "print(jeu())"
   ]
  },
  {
   "cell_type": "markdown",
   "metadata": {},
   "source": [
    "Après l'instruction *print* dans une fonction, la ligne d'après est exécutée. Ici, après le *print(ord)* de la ligne 3, la ligne 5 est exécutée.\n",
    "\n",
    "Après l'instruction *return*, la fonction est stoppée, le programme se poursuit ici à la ligne 10. \n",
    "\n",
    "Vous pouvez le tester grâce au programme suivant (\"Toto\" et \"Titi\" ne sont jamais affichés) :"
   ]
  },
  {
   "cell_type": "code",
   "execution_count": null,
   "metadata": {},
   "outputs": [],
   "source": [
    "from random import *\n",
    "def jeu():\n",
    "    ord=randint(1,6) # randint(1,6) renvoie un entier aléatoire de 1 à 6 (1 et 6 compris)\n",
    "    print(ord)\n",
    "    if ord==6:\n",
    "        return \"Gagné !\"\n",
    "        print(\"Toto\")\n",
    "    else :\n",
    "        return \"Perdu !\"\n",
    "        print(\"Titi\")\n",
    "    \n",
    "print(jeu())"
   ]
  },
  {
   "cell_type": "markdown",
   "metadata": {},
   "source": [
    " <span style='color:green'>**Exemple 4**</span> : une fonction peut ne pas contenir de *return*\n",
    " \n",
    " Elle peut par exemple afficher un résultat par l'intermédiaire de l'instruction *print*.\n",
    " \n",
    " En voici un exemple que vous pouvez tester."
   ]
  },
  {
   "cell_type": "code",
   "execution_count": null,
   "metadata": {},
   "outputs": [],
   "source": [
    "def accueil():\n",
    "    print(\"Bonjour\")\n",
    "\n",
    "print(accueil())"
   ]
  },
  {
   "cell_type": "markdown",
   "metadata": {},
   "source": [
    "Lors de l'exécution, il est aussi affiché en deuxième ligne *None*. Cela signifie que comme il n'y a pas de *return*, cette instruction ne renvoie rien. En général lorsqu'une **fonction** ne contient pas de *return*, c'est une **procédure**."
   ]
  },
  {
   "cell_type": "markdown",
   "metadata": {},
   "source": [
    "## 2- Exercices\n",
    "\n",
    "<span style='color:blue'>**Exercice 1**</span> :\n",
    "Ecrire dans la *cellule Code* une fonction *inverse(x)* qui renvoie \"impossible\" si $x=0$ et son inverse $1/x$ lorsque le calcul est possible."
   ]
  },
  {
   "cell_type": "code",
   "execution_count": null,
   "metadata": {},
   "outputs": [],
   "source": [
    "def inverse(x):\n",
    "    ...\n",
    "    \n",
    "print(inverse(0))\n",
    "print(inverse(10))"
   ]
  },
  {
   "cell_type": "markdown",
   "metadata": {},
   "source": [
    "<span style='color:blue'>**Exercice 2**</span> :\n",
    "\n",
    "Ecrire dans la cellule Code ci-après un script qui signale si un entier $n$ est pair ou impair. \n",
    "\n",
    "On pourra utiliser l'opérateur %. \n",
    "\n",
    "$a$%$b$ est égal au reste de la division euclidienne de $a$ par $b$ qui sont des entiers naturels non nuls."
   ]
  },
  {
   "cell_type": "code",
   "execution_count": null,
   "metadata": {},
   "outputs": [],
   "source": [
    "def parite(n):\n",
    "    ...\n",
    "    \n",
    "print(parite(5))\n",
    "print(parite(12))"
   ]
  },
  {
   "cell_type": "markdown",
   "metadata": {},
   "source": [
    "<span style='color:blue'>**Exercice 3**</span> :\n",
    "\n",
    "Compléter le script suivant pour qu'il affiche l'aire des 6 faces du pavé droit en plus de son volume (dans le cas où $h=3$, $L=4$ et $l=2$) :\n",
    "\n",
    "![image1](image1.png)\n",
    "\n"
   ]
  },
  {
   "cell_type": "code",
   "execution_count": null,
   "metadata": {},
   "outputs": [],
   "source": [
    "def pave(h,L,l):\n",
    "    ...\n",
    "\n",
    "print(pave(3,4,2))"
   ]
  }
 ],
 "metadata": {
  "kernelspec": {
   "display_name": "Python 3",
   "language": "python",
   "name": "python3"
  },
  "language_info": {
   "codemirror_mode": {
    "name": "ipython",
    "version": 3
   },
   "file_extension": ".py",
   "mimetype": "text/x-python",
   "name": "python",
   "nbconvert_exporter": "python",
   "pygments_lexer": "ipython3",
   "version": "3.8.5"
  }
 },
 "nbformat": 4,
 "nbformat_minor": 4
}
